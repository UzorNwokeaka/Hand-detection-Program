{
 "cells": [
  {
   "cell_type": "code",
   "execution_count": 25,
   "id": "f9d8c407-ccf8-48ae-9f4b-d8a9c7aa093b",
   "metadata": {},
   "outputs": [],
   "source": [
    "# import all required libraries \n",
    "import cv2\n",
    "import mediapipe as mp"
   ]
  },
  {
   "cell_type": "code",
   "execution_count": 26,
   "id": "db2880ce-cbe7-4dc4-a981-0890ef066fe2",
   "metadata": {},
   "outputs": [],
   "source": [
    "# identify webcam\n",
    "\n",
    "cap=cv2.VideoCapture(0)     # 0 for internal webcam & 1 for external webcam\n",
    "\n",
    "# Leveraging the mediapipe library used for hand detection\n",
    "mpHands=mp.solutions.hands\n",
    "hands=mpHands.Hands()\n",
    "mpDraw=mp.solutions.drawing_utils"
   ]
  },
  {
   "cell_type": "code",
   "execution_count": 27,
   "id": "1d8eb582-c056-46d2-96b2-c33eebd884aa",
   "metadata": {},
   "outputs": [],
   "source": [
    "# Switch on webcam\n",
    "\n",
    "while True:\n",
    "    _, img=cap.read()  # read the webcam\n",
    "\n",
    "    # Convert image from BGR to RGB\n",
    "    imgRGB=cv2.cvtColor(img,cv2.COLOR_BGR2RGB)\n",
    "\n",
    "    # Apply mediapipe\n",
    "    results=hands.process(imgRGB)\n",
    "    #print(results.multi_hand_landmarks)\n",
    "\n",
    "    # Detect id and landmark of my hand(s)\n",
    "    if results.multi_hand_landmarks:\n",
    "        for handLms in results.multi_hand_landmarks:\n",
    "            for id, lm in enumerate(handLms.landmark):\n",
    "                #print(id, lm)\n",
    "    \n",
    "                # Draw the hands detected \n",
    "                mpDraw.draw_landmarks(img, handLms, mpHands.HAND_CONNECTIONS)\n",
    "    cv2.putText(img, \"Uzor's Hand Detection Program\", (10,70), cv2.FONT_HERSHEY_PLAIN, 2, (255,255,255), 2)\n",
    "    cv2.imshow(\"Hand Detection Project\", img)\n",
    "    \n",
    "    if cv2.waitKey(1) & 0xFF == ord('q'):\n",
    "        break\n",
    "\n",
    "# Release the capture once all processing is done.\n",
    "cap.release()\n",
    "cv2.destroyAllWindows()\n"
   ]
  },
  {
   "cell_type": "code",
   "execution_count": null,
   "id": "f1943d58-63a6-49cf-863f-062c74fe3f29",
   "metadata": {},
   "outputs": [],
   "source": []
  }
 ],
 "metadata": {
  "kernelspec": {
   "display_name": "Python 3 (ipykernel)",
   "language": "python",
   "name": "python3"
  },
  "language_info": {
   "codemirror_mode": {
    "name": "ipython",
    "version": 3
   },
   "file_extension": ".py",
   "mimetype": "text/x-python",
   "name": "python",
   "nbconvert_exporter": "python",
   "pygments_lexer": "ipython3",
   "version": "3.11.4"
  }
 },
 "nbformat": 4,
 "nbformat_minor": 5
}
